{
 "cells": [
  {
   "cell_type": "markdown",
   "metadata": {},
   "source": [
    "# Forward modeling tutorial using mosaic images\n",
    "## Extract BeamCutout\n",
    "\n",
    "Here I will show you how to extract BeamCutouts. Saving these (fits) files before modeling will make entire process quicker. The BeamCutouts contain the orient information which is nessecary for better fitting models. Here's what Gabe says about this from his grizli notebooks:\n",
    "\n",
    ">To interact more closely with an individual object, its information can be extracted from the full exposure with the BeamCutout class. This object will contain the high-level GrismDisperser object useful for generating the model spectra and it will also have tools for analyzing and fitting the observed spectra.\n",
    "\n",
    ">It also makes detailed cutouts of the parent direct and grism images preserving the native WCS information."
   ]
  },
  {
   "cell_type": "code",
   "execution_count": 1,
   "metadata": {
    "collapsed": true
   },
   "outputs": [],
   "source": [
    "from grizli import model\n",
    "import numpy as np\n",
    "import matplotlib.pyplot as plt\n",
    "from scipy.interpolate import interp1d\n",
    "from astropy.table import Table\n",
    "from astropy import wcs\n",
    "from astropy.io import fits\n",
    "from glob import glob\n",
    "import os\n",
    "\n",
    "## Seaborn is used to make plots look nicer. \n",
    "## If you don't have it, you can comment it out and it won't affect the rest of the code\n",
    "import seaborn as sea\n",
    "sea.set(style='white')\n",
    "sea.set(style='ticks')\n",
    "sea.set_style({'xtick.direct'\n",
    "               'ion': 'in','xtick.top':True,'xtick.minor.visible': True,\n",
    "               'ytick.direction': \"in\",'ytick.right': True,'ytick.minor.visible': True})\n",
    "\n",
    "%config InlineBackend.figure_format = 'retina'\n",
    "%matplotlib inline"
   ]
  },
  {
   "cell_type": "markdown",
   "metadata": {},
   "source": [
    "## Set files and target\n",
    "\n",
    "For this example I'll be using one of my quiescent galaxys from GOODS north."
   ]
  },
  {
   "cell_type": "code",
   "execution_count": 8,
   "metadata": {},
   "outputs": [],
   "source": [
    "mosaic = '/Users/Vince.ec/Clear_data/goodsn_mosaic/goodsn_3dhst.v4.0.F125W_orig_sci.fits'\n",
    "seg_map = '/Users/Vince.ec/Clear_data/goodsn_mosaic/goodsn_3dhstP.seg.fits'\n",
    "# catalog = '/Users/Vince.ec/Clear_data/goodsn_mosaic/goodsn_3dhst.v4.3.cat.FITS'\n",
    "catalog = '/Users/Vince.ec/catalogs_for_CLEAR/goodsn_3dhst.v4.1.cats/Catalog/goodsn_3dhst.v4.1.cat'\n",
    "instrument = 'G102' # or G141\n",
    "\n",
    "galaxy_id = 21156 # 3D-HST catalog ID"
   ]
  },
  {
   "cell_type": "markdown",
   "metadata": {},
   "source": [
    "## Find flt files with target\n",
    "\n",
    "You'll need the flt files associated with the field(s) your object's in. You can follow the steps outlined in Raymond's tutorial [grizli_retrieve_and_prep](https://github.com/ivastar/clear/blob/master/notebooks/grizli/grizli_retrieve_and_prep.ipynb) to download flt files. Here I will assume you already have them in hand.\n",
    "\n",
    "I've created a routine that will search flt files for your an object (given an ra and dec), in case you have flt files from multiple fields."
   ]
  },
  {
   "cell_type": "code",
   "execution_count": 3,
   "metadata": {},
   "outputs": [],
   "source": [
    "## Reference catalog\n",
    "ref_cat = Table.read(catalog,format='ascii')\n",
    "\n",
    "galaxy_ra = float(ref_cat['ra'][ref_cat['id'] == galaxy_id])\n",
    "galaxy_dec = float(ref_cat['dec'][ref_cat['id'] == galaxy_id])"
   ]
  },
  {
   "cell_type": "code",
   "execution_count": 4,
   "metadata": {},
   "outputs": [],
   "source": [
    "## finds source in flt file, returns if present and the position in pixels\n",
    "\n",
    "def Source_present(fn,ra,dec):  \n",
    "    flt=fits.open(fn)\n",
    "    present = False\n",
    "    \n",
    "    w = wcs.WCS(flt[1].header)\n",
    "\n",
    "    xpixlim=len(flt[1].data[0])\n",
    "    ypixlim=len(flt[1].data)\n",
    "\n",
    "    [pos]=w.wcs_world2pix([[ra,dec]],1)\n",
    "\n",
    "    if -100 < pos[0] < xpixlim and 0 < pos[1] < ypixlim and flt[0].header['OBSTYPE'] == 'SPECTROSCOPIC':\n",
    "        present=True\n",
    "            \n",
    "    return present,pos"
   ]
  },
  {
   "cell_type": "markdown",
   "metadata": {},
   "source": [
    "Here I'm searching all of the GOODS north flt's for my target, **these are not included in the tutorial so this cell will not work.**\n",
    "\n",
    "If the target is in the file I'll have it print out its [x,y] position, the PA, and the file name"
   ]
  },
  {
   "cell_type": "code",
   "execution_count": 66,
   "metadata": {},
   "outputs": [
    {
     "name": "stdout",
     "output_type": "stream",
     "text": [
      "x=152.3 y=310.9, PA=345.0, file=icat21cfq_flt.fits \n",
      "x=227.3 y=314.4, PA=345.0, file=icat21coq_flt.fits \n",
      "x=158.8 y=320.9, PA=345.0, file=icat21dgq_flt.fits \n",
      "x=148.8 y=317.4, PA=345.0, file=icat21dlq_flt.fits \n",
      "x=-26.3 y=850.8, PA=195.0, file=icat25hcq_flt.fits \n",
      "x=-16.3 y=854.3, PA=195.0, file=icat25hiq_flt.fits \n",
      "x=-19.8 y=860.8, PA=195.0, file=icat25icq_flt.fits \n",
      "x=-29.9 y=857.4, PA=195.0, file=icat25iiq_flt.fits \n",
      "x=279.9 y=838.7, PA=345.0, file=icxt51jvq_flt.fits \n",
      "x=289.9 y=842.2, PA=345.0, file=icxt51jwq_flt.fits \n",
      "x=286.4 y=848.7, PA=345.0, file=icxt51jzq_flt.fits \n",
      "x=276.4 y=845.2, PA=345.0, file=icxt51k1q_flt.fits \n",
      "x=128.7 y=708.3, PA=308.9, file=icxt52i0q_flt.fits \n",
      "x=138.7 y=711.8, PA=308.9, file=icxt52i1q_flt.fits \n",
      "x=135.1 y=718.3, PA=308.9, file=icxt52i4q_flt.fits \n",
      "x=125.1 y=714.9, PA=308.9, file=icxt52i6q_flt.fits \n",
      "x=128.7 y=708.2, PA=308.9, file=icxt53i9q_flt.fits \n",
      "x=138.7 y=711.7, PA=308.9, file=icxt53iaq_flt.fits \n",
      "x=135.2 y=718.3, PA=308.9, file=icxt53idq_flt.fits \n",
      "x=125.2 y=714.8, PA=308.9, file=icxt53ifq_flt.fits \n",
      "x=475.3 y=845.0, PA=22.0, file=icxt55krq_flt.fits \n",
      "x=485.3 y=848.5, PA=22.0, file=icxt55ksq_flt.fits \n",
      "x=481.8 y=855.0, PA=22.0, file=icxt55kvq_flt.fits \n",
      "x=471.8 y=851.5, PA=22.0, file=icxt55kxq_flt.fits \n"
     ]
    }
   ],
   "source": [
    "flt_files = glob('/Users/Vince.ec/Clear_data/n_flt_files/*')\n",
    "\n",
    "grism_flts = []\n",
    "for i in flt_files:\n",
    "    in_flt,loc = Source_present(i,galaxy_ra,galaxy_dec)\n",
    "    if in_flt:\n",
    "        grism_flts.append(i)\n",
    "        print('x={0:0.1f} y={1:0.1f}, PA={2:0.1f}, file={3} '.format(\n",
    "            loc[0],loc[1],fits.open(i)[0].header['PA_V3'], os.path.basename(i)))"
   ]
  },
  {
   "cell_type": "code",
   "execution_count": 6,
   "metadata": {},
   "outputs": [],
   "source": [
    "## For this example I chose one flt from each of the PAs\n",
    "## I have included these flts in the flt_files directory\n",
    "\n",
    "orient_1 = 'flt_files/icxta4mdq_flt.fits' ; PA_1 = 22.0\n",
    "orient_2 = 'flt_files/icat25iiq_flt.fits' ; PA_2 = 195.0\n",
    "orient_3 = 'flt_files/icxt53i9q_flt.fits' ; PA_3 = 308.9\n",
    "orient_4 = 'flt_files/icat21dgq_flt.fits' ; PA_4 = 345.0"
   ]
  },
  {
   "cell_type": "markdown",
   "metadata": {},
   "source": [
    "## Use Grizli to extract beam\n",
    "\n",
    "First you'll need to create a GrismFLT object. \n",
    "\n",
    "Next run blot_catalog to create the catalog of objects in the field. \n",
    "Another routine (photutils_detection) is used if you're not using mosiac images and segmentation maps, \n",
    "but since we have them you should do it this way."
   ]
  },
  {
   "cell_type": "code",
   "execution_count": 7,
   "metadata": {},
   "outputs": [
    {
     "name": "stdout",
     "output_type": "stream",
     "text": [
      "Image cutout: x=slice(8654, 13137, None), y=slice(8309, 12389, None)\n",
      "flt_files/icxt53i9q_flt.fits / blot reference /Users/vestrada/Clear_data/goodsn_mosaic/goodsn_3dhst.v4.0.F125W_orig_sci.fits[0]\n",
      "The following task in the stsci.skypac package can be run with TEAL:\n",
      "                                    skymatch                                    \n",
      "The following tasks in the drizzlepac package can be run with TEAL:\n",
      "    astrodrizzle       imagefindpars           mapreg              photeq       \n",
      "     pixreplace           pixtopix            pixtosky        refimagefindpars  \n",
      "     resetbits          runastrodriz          skytopix           tweakback      \n",
      "      tweakreg           updatenpol\n",
      "Using default C-based coordinate transformation...\n",
      "Image cutout: x=slice(8654, 13137, None), y=slice(8309, 12389, None)\n",
      "flt_files/icxt53i9q_flt.fits / Pad ref HDU with 50 pixels\n",
      "flt_files/icxt53i9q_flt.fits / blot segmentation /Users/vestrada/Clear_data/goodsn_mosaic/goodsn_3dhst.v4.0.F160W_seg.fits[0]\n",
      "Using default C-based coordinate transformation...\n",
      "Using default C-based coordinate transformation...\n"
     ]
    }
   ],
   "source": [
    "## GrismFLT object\n",
    "flt = model.GrismFLT(grism_file = orient_3,\n",
    "                    ref_file = mosaic, \n",
    "                    seg_file = seg_map,\n",
    "                    force_grism = instrument)\n",
    "    \n",
    "## catalog / semetation image\n",
    "seg_cat = flt.blot_catalog(ref_cat, sextractor=False)"
   ]
  },
  {
   "cell_type": "code",
   "execution_count": 8,
   "metadata": {
    "collapsed": true
   },
   "outputs": [
    {
     "data": {
      "text/plain": [
       "<matplotlib.image.AxesImage at 0x1a1d9d78d0>"
      ]
     },
     "execution_count": 8,
     "metadata": {},
     "output_type": "execute_result"
    },
    {
     "data": {
      "image/png": "[encoded data removed]",
      "text/plain": [
       "<Figure size 432x288 with 1 Axes>"
      ]
     },
     "metadata": {
      "image/png": {
       "height": 248,
       "width": 258
      }
     },
     "output_type": "display_data"
    }
   ],
   "source": [
    "## needed to create the object_disperers dictionary\n",
    "flt.compute_model_orders(id=galaxy_id)\n",
    "\n",
    "## Object and spectral order\n",
    "beam = flt.object_dispersers[galaxy_id][2]['A']\n",
    "\n",
    "## BeamCutout object\n",
    "co = model.BeamCutout(flt, beam, conf=flt.conf)\n",
    "\n",
    "## galaxy cutout from mosiac\n",
    "plt.imshow(beam.direct)"
   ]
  },
  {
   "cell_type": "markdown",
   "metadata": {},
   "source": [
    "The last step is to save out the BeamCutout as a fits file.\n",
    "\n",
    "Here I've added an additional step to save the EXPTIME keyword to extension 0 in the fits file. This may not be nessecary for everyone."
   ]
  },
  {
   "cell_type": "code",
   "execution_count": 9,
   "metadata": {},
   "outputs": [],
   "source": [
    "## Save file and ID by orient/PA\n",
    "co.write_fits(root='beams/o{0}'.format(PA_3), clobber=True)\n",
    "\n",
    "## add EXPTIME to extension 0\n",
    "fits.setval('beams/o{0}_{1}.{2}.A.fits'.format(PA_3, galaxy_id, instrument), 'EXPTIME', ext=0,\n",
    "        value=fits.open('beams/o{0}_{1}.{2}.A.fits'.format(PA_3, galaxy_id, instrument))[1].header['EXPTIME'])"
   ]
  },
  {
   "cell_type": "markdown",
   "metadata": {},
   "source": [
    "## Function\n",
    "\n",
    "I've also included a function that can do all of this for you."
   ]
  },
  {
   "cell_type": "code",
   "execution_count": 8,
   "metadata": {},
   "outputs": [],
   "source": [
    "def Extract_BeamCutout(galaxy_id, grism_file, mosaic, seg_map, instrument, catalog, show_target=True):\n",
    "    ## initialize GrismFLT\n",
    "    flt = model.GrismFLT(grism_file = grism_file ,\n",
    "                        ref_file = mosaic, seg_file = seg_map,\n",
    "                        force_grism = instrument)\n",
    "    \n",
    "    ## get catalog\n",
    "    ref_cat = Table.read(catalog ,format='ascii')\n",
    "    seg_cat = flt.blot_catalog(ref_cat,sextractor=False)\n",
    "    \n",
    "    ## create cutout\n",
    "    flt.compute_model_orders(id=galaxy_id)\n",
    "    beam = flt.object_dispersers[galaxy_id][2]['A']\n",
    "    co = model.BeamCutout(flt, beam, conf=flt.conf)\n",
    "    \n",
    "    ## get orient/PA\n",
    "    PA = np.round(fits.open(grism_file)[0].header['PA_V3'] , 1)\n",
    "    \n",
    "    ## save file\n",
    "    co.write_fits(root='beams/o{0}'.format(PA), clobber=True)\n",
    "\n",
    "    ## add EXPTIME to extension 0\n",
    "    fits.setval('beams/o{0}_{1}.{2}.A.fits'.format(PA, galaxy_id, instrument), 'EXPTIME', ext=0,\n",
    "            value=fits.open('beams/o{0}_{1}.{2}.A.fits'.format(PA, galaxy_id, instrument))[1].header['EXPTIME'])\n",
    "    \n",
    "    ## show plot\n",
    "    if show_target:\n",
    "        plt.figure(figsize=[6,6])\n",
    "        plt.imshow(beam.direct)"
   ]
  },
  {
   "cell_type": "code",
   "execution_count": 9,
   "metadata": {},
   "outputs": [
    {
     "name": "stdout",
     "output_type": "stream",
     "text": [
      "Image cutout: x=slice(8132, 13096, None), y=slice(8041, 13253, None)\n",
      "flt_files/icxta4mdq_flt.fits / blot reference /Users/vestrada/Clear_data/goodsn_mosaic/goodsn_3dhst.v4.0.F125W_orig_sci.fits[0]\n",
      "Using default C-based coordinate transformation...\n",
      "Image cutout: x=slice(8132, 13096, None), y=slice(8041, 13253, None)\n",
      "flt_files/icxta4mdq_flt.fits / Pad ref HDU with 50 pixels\n",
      "flt_files/icxta4mdq_flt.fits / blot segmentation /Users/vestrada/Clear_data/goodsn_mosaic/goodsn_3dhst.v4.0.F160W_seg.fits[0]\n",
      "Using default C-based coordinate transformation...\n",
      "Using default C-based coordinate transformation...\n",
      "Image cutout: x=slice(6290, 11502, None), y=slice(7321, 12709, None)\n",
      "flt_files/icat25iiq_flt.fits / blot reference /Users/vestrada/Clear_data/goodsn_mosaic/goodsn_3dhst.v4.0.F125W_orig_sci.fits[0]\n",
      "Using default C-based coordinate transformation...\n",
      "Image cutout: x=slice(6290, 11502, None), y=slice(7321, 12709, None)\n",
      "flt_files/icat25iiq_flt.fits / Pad ref HDU with 50 pixels\n",
      "flt_files/icat25iiq_flt.fits / blot segmentation /Users/vestrada/Clear_data/goodsn_mosaic/goodsn_3dhst.v4.0.F160W_seg.fits[0]\n",
      "Using default C-based coordinate transformation...\n",
      "Using default C-based coordinate transformation...\n",
      "Image cutout: x=slice(8654, 13137, None), y=slice(8309, 12389, None)\n",
      "flt_files/icxt53i9q_flt.fits / blot reference /Users/vestrada/Clear_data/goodsn_mosaic/goodsn_3dhst.v4.0.F125W_orig_sci.fits[0]\n",
      "Using default C-based coordinate transformation...\n",
      "Image cutout: x=slice(8654, 13137, None), y=slice(8309, 12389, None)\n",
      "flt_files/icxt53i9q_flt.fits / Pad ref HDU with 50 pixels\n",
      "flt_files/icxt53i9q_flt.fits / blot segmentation /Users/vestrada/Clear_data/goodsn_mosaic/goodsn_3dhst.v4.0.F160W_seg.fits[0]\n",
      "Using default C-based coordinate transformation...\n",
      "Using default C-based coordinate transformation...\n",
      "Image cutout: x=slice(7784, 13142, None), y=slice(8966, 14180, None)\n",
      "flt_files/icat21dgq_flt.fits / blot reference /Users/vestrada/Clear_data/goodsn_mosaic/goodsn_3dhst.v4.0.F125W_orig_sci.fits[0]\n",
      "Using default C-based coordinate transformation...\n",
      "Image cutout: x=slice(7784, 13142, None), y=slice(8966, 14180, None)\n",
      "flt_files/icat21dgq_flt.fits / Pad ref HDU with 50 pixels\n",
      "flt_files/icat21dgq_flt.fits / blot segmentation /Users/vestrada/Clear_data/goodsn_mosaic/goodsn_3dhst.v4.0.F160W_seg.fits[0]\n",
      "Using default C-based coordinate transformation...\n",
      "Using default C-based coordinate transformation...\n"
     ]
    },
    {
     "data": {
      "image/png": "[encoded data removed]",
      "text/plain": [
       "<Figure size 432x432 with 1 Axes>"
      ]
     },
     "metadata": {
      "image/png": {
       "height": 357,
       "width": 367
      }
     },
     "output_type": "display_data"
    },
    {
     "data": {
      "image/png": "[encoded data removed]",
      "text/plain": [
       "<Figure size 432x432 with 1 Axes>"
      ]
     },
     "metadata": {
      "image/png": {
       "height": 357,
       "width": 367
      }
     },
     "output_type": "display_data"
    },
    {
     "data": {
      "image/png": "[encoded data removed]",
      "text/plain": [
       "<Figure size 432x432 with 1 Axes>"
      ]
     },
     "metadata": {
      "image/png": {
       "height": 357,
       "width": 367
      }
     },
     "output_type": "display_data"
    },
    {
     "data": {
      "image/png": "[encoded data removed]",
      "text/plain": [
       "<Figure size 432x432 with 1 Axes>"
      ]
     },
     "metadata": {
      "image/png": {
       "height": 357,
       "width": 367
      }
     },
     "output_type": "display_data"
    }
   ],
   "source": [
    "Extract_BeamCutout(21156,orient_1,mosaic,seg_map,'g102',catalog)\n",
    "Extract_BeamCutout(21156,orient_2,mosaic,seg_map,'g102',catalog)\n",
    "Extract_BeamCutout(21156,orient_3,mosaic,seg_map,'g102',catalog)\n",
    "Extract_BeamCutout(21156,orient_4,mosaic,seg_map,'g102',catalog)"
   ]
  },
  {
   "cell_type": "markdown",
   "metadata": {},
   "source": [
    "## Extracting MultiBeam\n",
    "\n",
    "Another way to to extract beam cutouts is to use the MultiBeam object. This methond has the advantage of containing **all** \n",
    "grism pointing information (incorporating both G102 and G141)."
   ]
  },
  {
   "cell_type": "code",
   "execution_count": 63,
   "metadata": {},
   "outputs": [],
   "source": [
    "from grizli import multifit"
   ]
  },
  {
   "cell_type": "code",
   "execution_count": 68,
   "metadata": {},
   "outputs": [
    {
     "name": "stdout",
     "output_type": "stream",
     "text": [
      "Image cutout: x=slice(7787, 13144, None), y=slice(8991, 14205, None)\n",
      "Image cutout: x=slice(7643, 13001, None), y=slice(8901, 14114, None)\n",
      "Using default C-based coordinate transformation...\n",
      "Using default C-based coordinate transformation...\n",
      "Image cutout: x=slice(7787, 13144, None), y=slice(8991, 14205, None)\n",
      "Image cutout: x=slice(7643, 13001, None), y=slice(8901, 14114, None)\n",
      "/Users/Vince.ec/Clear_data/n_flt_files/icat21coq_flt.fits / Pad ref HDU with 50 pixels\n",
      "/Users/Vince.ec/Clear_data/n_flt_files/icat21cfq_flt.fits / Pad ref HDU with 50 pixels\n",
      "Using default C-based coordinate transformation...\n",
      "Using default C-based coordinate transformation...\n",
      "Using default C-based coordinate transformation...\n",
      "Using default C-based coordinate transformation...\n",
      "Image cutout: x=slice(7784, 13142, None), y=slice(8966, 14180, None)\n",
      "Image cutout: x=slice(7800, 13158, None), y=slice(8984, 14197, None)\n",
      "Using default C-based coordinate transformation...\n",
      "Using default C-based coordinate transformation...\n",
      "Image cutout: x=slice(7784, 13142, None), y=slice(8966, 14180, None)\n",
      "Image cutout: x=slice(7800, 13158, None), y=slice(8984, 14197, None)\n",
      "/Users/Vince.ec/Clear_data/n_flt_files/icat21dgq_flt.fits / Pad ref HDU with 50 pixels\n",
      "/Users/Vince.ec/Clear_data/n_flt_files/icat21dlq_flt.fits / Pad ref HDU with 50 pixels\n",
      "Using default C-based coordinate transformation...\n",
      "Using default C-based coordinate transformation...\n",
      "Using default C-based coordinate transformation...\n",
      "Using default C-based coordinate transformation...\n",
      "Image cutout: x=slice(6305, 11518, None), y=slice(7321, 12709, None)\n",
      "Image cutout: x=slice(6311, 11523, None), y=slice(7344, 12732, None)\n",
      "Using default C-based coordinate transformation...\n",
      "Using default C-based coordinate transformation...\n",
      "Image cutout: x=slice(6311, 11523, None), y=slice(7344, 12732, None)\n",
      "Image cutout: x=slice(6305, 11518, None), y=slice(7321, 12709, None)\n",
      "/Users/Vince.ec/Clear_data/n_flt_files/icat25hcq_flt.fits / Pad ref HDU with 50 pixels\n",
      "/Users/Vince.ec/Clear_data/n_flt_files/icat25hiq_flt.fits / Pad ref HDU with 50 pixels\n",
      "Using default C-based coordinate transformation...\n",
      "Using default C-based coordinate transformation...\n",
      "Using default C-based coordinate transformation...\n",
      "Using default C-based coordinate transformation...\n",
      "Image cutout: x=slice(6295, 11508, None), y=slice(7344, 12732, None)\n",
      "Image cutout: x=slice(6290, 11502, None), y=slice(7321, 12709, None)\n",
      "Using default C-based coordinate transformation...\n",
      "Using default C-based coordinate transformation...\n",
      "Image cutout: x=slice(6295, 11508, None), y=slice(7344, 12732, None)\n",
      "Image cutout: x=slice(6290, 11502, None), y=slice(7321, 12709, None)\n",
      "/Users/Vince.ec/Clear_data/n_flt_files/icat25icq_flt.fits / Pad ref HDU with 50 pixels\n",
      "/Users/Vince.ec/Clear_data/n_flt_files/icat25iiq_flt.fits / Pad ref HDU with 50 pixels\n",
      "Using default C-based coordinate transformation...\n",
      "Using default C-based coordinate transformation...\n",
      "Using default C-based coordinate transformation...\n",
      "Using default C-based coordinate transformation...\n",
      "Image cutout: x=slice(8063, 13420, None), y=slice(7924, 13136, None)\n",
      "Image cutout: x=slice(8047, 13404, None), y=slice(7906, 13119, None)\n",
      "Using default C-based coordinate transformation...\n",
      "Using default C-based coordinate transformation...\n",
      "Image cutout: x=slice(8047, 13404, None), y=slice(7906, 13119, None)\n",
      "Image cutout: x=slice(8063, 13420, None), y=slice(7924, 13136, None)\n",
      "/Users/Vince.ec/Clear_data/n_flt_files/icxt51jwq_flt.fits / Pad ref HDU with 50 pixels\n",
      "/Users/Vince.ec/Clear_data/n_flt_files/icxt51jvq_flt.fits / Pad ref HDU with 50 pixels\n",
      "Using default C-based coordinate transformation...\n",
      "Using default C-based coordinate transformation...\n",
      "Using default C-based coordinate transformation...\n",
      "Using default C-based coordinate transformation...\n",
      "Image cutout: x=slice(8061, 13417, None), y=slice(7899, 13111, None)\n",
      "Image cutout: x=slice(8077, 13433, None), y=slice(7916, 13129, None)\n",
      "Using default C-based coordinate transformation...\n",
      "Using default C-based coordinate transformation...\n",
      "Image cutout: x=slice(8061, 13417, None), y=slice(7899, 13111, None)\n",
      "Image cutout: x=slice(8077, 13433, None), y=slice(7916, 13129, None)\n",
      "/Users/Vince.ec/Clear_data/n_flt_files/icxt51k1q_flt.fits / Pad ref HDU with 50 pixels\n",
      "/Users/Vince.ec/Clear_data/n_flt_files/icxt51jzq_flt.fits / Pad ref HDU with 50 pixels\n",
      "Using default C-based coordinate transformation...\n",
      "Using default C-based coordinate transformation...\n",
      "Using default C-based coordinate transformation...\n",
      "Using default C-based coordinate transformation...\n",
      "Image cutout: x=slice(8655, 13136, None), y=slice(8310, 12388, None)\n",
      "Image cutout: x=slice(8632, 13112, None), y=slice(8305, 12384, None)\n",
      "Using default C-based coordinate transformation...\n",
      "Using default C-based coordinate transformation...\n",
      "Image cutout: x=slice(8655, 13136, None), y=slice(8310, 12388, None)\n",
      "Image cutout: x=slice(8632, 13112, None), y=slice(8305, 12384, None)\n",
      "/Users/Vince.ec/Clear_data/n_flt_files/icxt52i0q_flt.fits / Pad ref HDU with 50 pixels\n",
      "/Users/Vince.ec/Clear_data/n_flt_files/icxt52i1q_flt.fits / Pad ref HDU with 50 pixels\n",
      "Using default C-based coordinate transformation...\n",
      "Using default C-based coordinate transformation...\n",
      "Using default C-based coordinate transformation...\n",
      "Using default C-based coordinate transformation...\n",
      "Image cutout: x=slice(8638, 13119, None), y=slice(8291, 12370, None)\n",
      "Using default C-based coordinate transformation...\n",
      "Image cutout: x=slice(8661, 13142, None), y=slice(8296, 12374, None)\n",
      "Image cutout: x=slice(8638, 13119, None), y=slice(8291, 12370, None)\n",
      "Using default C-based coordinate transformation...\n",
      "/Users/Vince.ec/Clear_data/n_flt_files/icxt52i4q_flt.fits / Pad ref HDU with 50 pixels\n",
      "Image cutout: x=slice(8661, 13142, None), y=slice(8296, 12374, None)\n",
      "Using default C-based coordinate transformation...\n",
      "Using default C-based coordinate transformation...\n",
      "/Users/Vince.ec/Clear_data/n_flt_files/icxt52i6q_flt.fits / Pad ref HDU with 50 pixels\n",
      "Using default C-based coordinate transformation...\n",
      "Using default C-based coordinate transformation...\n",
      "Image cutout: x=slice(8654, 13137, None), y=slice(8309, 12389, None)\n",
      "Using default C-based coordinate transformation...\n",
      "Image cutout: x=slice(8631, 13113, None), y=slice(8304, 12385, None)\n",
      "Using default C-based coordinate transformation...\n",
      "Image cutout: x=slice(8654, 13137, None), y=slice(8309, 12389, None)\n",
      "/Users/Vince.ec/Clear_data/n_flt_files/icxt53i9q_flt.fits / Pad ref HDU with 50 pixels\n",
      "Image cutout: x=slice(8631, 13113, None), y=slice(8304, 12385, None)\n",
      "Using default C-based coordinate transformation...\n",
      "Using default C-based coordinate transformation...\n",
      "/Users/Vince.ec/Clear_data/n_flt_files/icxt53iaq_flt.fits / Pad ref HDU with 50 pixels\n",
      "Using default C-based coordinate transformation...\n",
      "Using default C-based coordinate transformation...\n",
      "Image cutout: x=slice(8637, 13120, None), y=slice(8290, 12371, None)\n",
      "Using default C-based coordinate transformation...\n",
      "Image cutout: x=slice(8661, 13143, None), y=slice(8295, 12375, None)\n",
      "Image cutout: x=slice(8637, 13120, None), y=slice(8290, 12371, None)\n",
      "Using default C-based coordinate transformation...\n",
      "/Users/Vince.ec/Clear_data/n_flt_files/icxt53idq_flt.fits / Pad ref HDU with 50 pixels\n",
      "Image cutout: x=slice(8661, 13143, None), y=slice(8295, 12375, None)\n",
      "Using default C-based coordinate transformation...\n",
      "Using default C-based coordinate transformation...\n",
      "/Users/Vince.ec/Clear_data/n_flt_files/icxt53ifq_flt.fits / Pad ref HDU with 50 pixels\n",
      "Using default C-based coordinate transformation...\n",
      "Using default C-based coordinate transformation...\n",
      "Image cutout: x=slice(8132, 13097, None), y=slice(8036, 13248, None)\n",
      "Image cutout: x=slice(8130, 13095, None), y=slice(8013, 13225, None)\n",
      "Using default C-based coordinate transformation...\n",
      "Using default C-based coordinate transformation...\n",
      "Image cutout: x=slice(8132, 13097, None), y=slice(8036, 13248, None)\n",
      "Image cutout: x=slice(8130, 13095, None), y=slice(8013, 13225, None)\n",
      "/Users/Vince.ec/Clear_data/n_flt_files/icxt55krq_flt.fits / Pad ref HDU with 50 pixels\n",
      "/Users/Vince.ec/Clear_data/n_flt_files/icxt55ksq_flt.fits / Pad ref HDU with 50 pixels\n",
      "Using default C-based coordinate transformation...\n",
      "Using default C-based coordinate transformation...\n",
      "Using default C-based coordinate transformation...\n",
      "Using default C-based coordinate transformation...\n",
      "Image cutout: x=slice(8145, 13110, None), y=slice(8015, 13227, None)\n",
      "Image cutout: x=slice(8147, 13112, None), y=slice(8038, 13250, None)\n",
      "Using default C-based coordinate transformation...\n",
      "Using default C-based coordinate transformation...\n",
      "Image cutout: x=slice(8145, 13110, None), y=slice(8015, 13227, None)\n",
      "Image cutout: x=slice(8147, 13112, None), y=slice(8038, 13250, None)\n",
      "/Users/Vince.ec/Clear_data/n_flt_files/icxt55kvq_flt.fits / Pad ref HDU with 50 pixels\n",
      "/Users/Vince.ec/Clear_data/n_flt_files/icxt55kxq_flt.fits / Pad ref HDU with 50 pixels\n",
      "Using default C-based coordinate transformation...\n",
      "Using default C-based coordinate transformation...\n",
      "Using default C-based coordinate transformation...\n",
      "Using default C-based coordinate transformation...\n"
     ]
    }
   ],
   "source": [
    "## The GroupFLT object uses all grism flts for the target\n",
    "grp = multifit.GroupFLT(grism_files = grism_flts, direct_files = [], \n",
    "              ref_file = mosaic,\n",
    "              seg_file = seg_map,\n",
    "              catalog = catalog,\n",
    "              cpu_count = 2,verbose = False)"
   ]
  },
  {
   "cell_type": "code",
   "execution_count": 65,
   "metadata": {},
   "outputs": [],
   "source": [
    "## Pull out the 2D cutouts\n",
    "beams = grp.get_beams(21156, size=80)\n",
    "\n",
    "## MultiBeam will read in all the beams and the main way to interact\n",
    "## with the models. Since we're only interested in using this for creating models\n",
    "## we don't need to worry about the rest of the settings\n",
    "mb = multifit.MultiBeam(beams, group_name='beams/gnd')\n",
    "\n",
    "# Save a FITS file with the 2D cutouts (beams) from the individual exposures\n",
    "mb.write_master_fits(verbose=False)"
   ]
  },
  {
   "cell_type": "code",
   "execution_count": null,
   "metadata": {},
   "outputs": [],
   "source": []
  }
 ],
 "metadata": {
  "kernelspec": {
   "display_name": "Python 3",
   "language": "python",
   "name": "python3"
  },
  "language_info": {
   "codemirror_mode": {
    "name": "ipython",
    "version": 3
   },
   "file_extension": ".py",
   "mimetype": "text/x-python",
   "name": "python",
   "nbconvert_exporter": "python",
   "pygments_lexer": "ipython3",
   "version": "3.5.5"
  }
 },
 "nbformat": 4,
 "nbformat_minor": 2
}
