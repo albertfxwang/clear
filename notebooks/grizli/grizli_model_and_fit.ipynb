{
 "cells": [
  {
   "cell_type": "markdown",
   "metadata": {},
   "source": [
    "## This notebook shows how to use `grizli` to\n",
    "\n",
    "model contamination + continuum + emission for G102/G141 observations of a single object in the CLEAR GS1 field. The final products are 1D and 2D spectra and line maps.\n",
    "\n",
    "These series of notebooks draw heavily from Gabe Brammer's existing `grizli` notebooks, which are available at https://github.com/gbrammer/grizli/tree/master/examples, but with examples specific for the CLEAR survey."
   ]
  },
  {
   "cell_type": "code",
   "execution_count": null,
   "metadata": {},
   "outputs": [],
   "source": [
    "%matplotlib inline\n",
    "import time\n",
    "import os\n",
    "import numpy as np\n",
    "import matplotlib.pyplot as plt\n",
    "from astropy.io import fits\n",
    "import drizzlepac\n",
    "import grizli\n",
    "import glob\n",
    "from grizli import utils\n",
    "import importlib\n",
    "from grizli.prep import process_direct_grism_visit\n",
    "from hsaquery import query, overlaps\n",
    "from grizli.pipeline import auto_script\n",
    "from grizli.multifit import GroupFLT, MultiBeam, get_redshift_fit_defaults\n",
    "import os\n",
    "from grizli.pipeline import photoz\n",
    "from astropy.table import Table\n",
    "import eazy\n",
    "from IPython.display import Image\n"
   ]
  },
  {
   "cell_type": "markdown",
   "metadata": {},
   "source": [
    "### The results of this notebook are available for download on the team archive (Prep_premade_GS1.tar.gz):\n",
    "\n",
    "https://archive.stsci.edu/pub/clear_team/INCOMING/for_hackday/\n",
    "\n",
    "\n",
    "\n",
    "\n",
    "\n",
    "### ***The following paths need to be changed for your filesystem.*** [HOME_PATH] is where the raw data, reduced data, and `grizli` outputs will be stored. [PATH_TO_CATS] is where the catalogs are stored and must include the following:\n",
    "        ###     reference mosaic image (e.g., goodss-F105W-astrodrizzle-v4.3_drz_sci.fits)\n",
    "        ###     segmentation map       (e.g., Goods_S_plus_seg.fits)\n",
    "        ###     source catalog         (e.g., goodss-F105W-astrodrizzle-v4.3_drz_sub_plus.cat)\n",
    "        ###     radec_catalog          (e.g., goodsS_radec.cat)\n",
    "        ###     3DHST Eazy Catalogs    (e.g., goodss_3dhst.v4.1.cats/*)\n",
    "        \n",
    "the [PATH_TO_CATS] files are available on the team archive: https://archive.stsci.edu/pub/clear_team/INCOMING/for_hackday/"
   ]
  },
  {
   "cell_type": "code",
   "execution_count": null,
   "metadata": {},
   "outputs": [],
   "source": [
    "field           = 'GS1'\n",
    "ref_filter      = 'F105W'\n",
    "HOME_PATH       = '/Users/rsimons/Desktop/clear/for_hackday/%s'%field\n",
    "PATH_TO_SCRIPTS = '/Users/rsimons/Desktop/git/clear_local/example_notebooks'\n",
    "PATH_TO_CATS    = '/Users/rsimons/Desktop/clear/Catalogs'\n",
    "PATH_TO_RAW     = glob.glob(HOME_PATH + '/*/RAW')[0]\n",
    "PATH_TO_PREP    = glob.glob(HOME_PATH + '/*/PREP')[0]\n",
    "\n",
    "\n",
    "class Pointing():\n",
    "    \"\"\" Generalization of GN1, GS1, ERSPRIME, etc\n",
    "\n",
    "    To change field-dependent catalog, seg map, ref image, and padding\n",
    "    only need to change them here.\n",
    "\n",
    "    \"\"\"\n",
    "    def __init__(self, field, ref_filter):\n",
    "        if 'N' in field.upper():\n",
    "            self.pad = 500 # really only necessary for GDN\n",
    "            self.radec_catalog = PATH_TO_CATS + '/goodsN_radec.cat'\n",
    "            self.seg_map =  PATH_TO_CATS + '/Goods_N_plus_seg.fits'\n",
    "            self.catalog =  PATH_TO_CATS + '/goodsn-F105W-astrodrizzle-v4.4_drz_sub_plus.cat'\n",
    "            self.ref_image =  PATH_TO_CATS + '/goodsn-F105W-astrodrizzle-v4.4_drz_sci.fits'\n",
    "            self.params = {}\n",
    "            self.params['CATALOG_FILE'] = PATH_TO_CATS + '/{0}_3dhst.{1}.cats/Catalog/{0}_3dhst.{1}.cat'.format('goodsn', 'v4.1')\n",
    "            self.params['Z_STEP'] = 0.002\n",
    "            self.params['Z_MAX'] = 4\n",
    "            self.params['MAIN_OUTPUT_FILE'] = '{0}_3dhst.{1}.eazypy'.format('goodsn', 'v4.1')\n",
    "            self.params['PRIOR_FILTER'] = 205\n",
    "            self.params['MW_EBV'] = {'aegis':0.0066, 'cosmos':0.0148, 'goodss':0.0069, \n",
    "                                    'uds':0.0195, 'goodsn':0.0103}['goodsn']\n",
    "            self.params['TEMPLATES_FILE'] = 'templates/fsps_full/tweak_fsps_QSF_12_v3.param'\n",
    "            self.translate_file = PATH_TO_CATS + '/{0}_3dhst.{1}.cats/Eazy/{0}_3dhst.{1}.translate'.format('goodsn', 'v4.1')\n",
    "\n",
    "        elif 'S' in field.upper():\n",
    "            self.pad = 200 # grizli default\n",
    "            self.radec_catalog =  PATH_TO_CATS + '/goodsS_radec.cat'\n",
    "            self.seg_map =  PATH_TO_CATS + '/Goods_S_plus_seg.fits'\n",
    "            self.catalog =  PATH_TO_CATS + '/goodss-F105W-astrodrizzle-v4.3_drz_sub_plus.cat'\n",
    "            self.ref_image =  PATH_TO_CATS + '/goodss-F105W-astrodrizzle-v4.3_drz_sci.fits'\n",
    "            self.params = {}\n",
    "            self.params['CATALOG_FILE'] = PATH_TO_CATS + '/{0}_3dhst.{1}.cats/Catalog/{0}_3dhst.{1}.cat'.format('goodss', 'v4.1')\n",
    "            self.params['Z_STEP'] = 0.002\n",
    "            self.params['Z_MAX'] = 4\n",
    "            self.params['MAIN_OUTPUT_FILE'] = '{0}_3dhst.{1}.eazypy'.format('goodss', 'v4.1')\n",
    "            self.params['PRIOR_FILTER'] = 205\n",
    "            self.params['MW_EBV'] = {'aegis':0.0066, 'cosmos':0.0148, 'goodss':0.0069, \n",
    "                                    'uds':0.0195, 'goodsn':0.0103}['goodss']\n",
    "            self.params['TEMPLATES_FILE'] = 'templates/fsps_full/tweak_fsps_QSF_12_v3.param'\n",
    "            self.translate_file = PATH_TO_CATS + '/{0}_3dhst.{1}.cats/Eazy/{0}_3dhst.{1}.translate'.format('goodss', 'v4.1')\n",
    "\n"
   ]
  },
  {
   "cell_type": "code",
   "execution_count": null,
   "metadata": {},
   "outputs": [],
   "source": [
    "os.chdir(PATH_TO_PREP)\n",
    "files = glob.glob('%s/*flt.fits'%PATH_TO_RAW)\n",
    "info = grizli.utils.get_flt_info(files)\n",
    "visits, filters = grizli.utils.parse_flt_files(info=info, uniquename=True)\n"
   ]
  },
  {
   "cell_type": "code",
   "execution_count": null,
   "metadata": {},
   "outputs": [],
   "source": [
    "product_names = np.array([visit['product'] for visit in visits])\n",
    "filter_names = np.array([visit['product'].split('-')[-1] for visit in visits])\n",
    "basenames = np.array([visit['product'].split('.')[0]+'.0' for visit in visits])\n"
   ]
  },
  {
   "cell_type": "code",
   "execution_count": null,
   "metadata": {},
   "outputs": [],
   "source": [
    "all_grism_files = []\n",
    "all_direct_files = []\n",
    "\n",
    "ref_filter_1 = 'F105W' \n",
    "ref_filter_2 = 'F140W'\n",
    "\n",
    "ref_grism_1 = 'G102'\n",
    "ref_grism_2 = 'G141'\n",
    "\n",
    "for v, visit in enumerate(visits):\n",
    "    product = product_names[v]\n",
    "    basename = basenames[v]\n",
    "    filt1 = filter_names[v]\n",
    "    if (ref_filter_1.lower() in filt1) or (ref_filter_2.lower() in filt1):\n",
    "        all_direct_files.extend(visit['files'])\n",
    "        grism_index_1 = np.where((basenames == basename) & (filter_names == ref_grism_1.lower()))[0]\n",
    "        grism_index_2 = np.where((basenames == basename) & (filter_names == ref_grism_2.lower()))[0]\n",
    "        if len(grism_index_1) > 0:\n",
    "            all_grism_files.extend(visits[grism_index_1[0]]['files'])\n",
    "        if len(grism_index_2) > 0:\n",
    "            all_grism_files.extend(visits[grism_index_2[0]]['files'])\n",
    "        \n",
    "print ('Number of direct files:', len(all_direct_files))\n",
    "print ('Number of grism files:', len(all_grism_files))\n"
   ]
  },
  {
   "cell_type": "markdown",
   "metadata": {},
   "source": [
    "<h1><center>Contamination models</center></h1>\n",
    "\n",
    "The contamination models have been pre-made and can be downloaded from (Prep_premade_GS1.tar.gz):\n",
    "\n",
    "https://archive.stsci.edu/pub/clear_team/INCOMING/for_hackday/\n",
    "\n",
    "untar the file\n",
    "\n",
    "    tar -xzvf Prep_premade_GS1.tar.gz\n",
    "    \n",
    "and move the *GrismFLT.pkl and *GrismFLT.fits files to your working PREP/ directory.\n"
   ]
  },
  {
   "cell_type": "code",
   "execution_count": null,
   "metadata": {},
   "outputs": [],
   "source": [
    "p = Pointing(field = field, ref_filter = ref_filter_1)\n",
    "print('Initializing (or loading pre-existing) contamination models...')\n",
    "\n",
    "grp = GroupFLT(grism_files=all_grism_files, \n",
    "               direct_files=[], \n",
    "               ref_file = p.ref_image,\n",
    "               seg_file = p.seg_map,\n",
    "               catalog  = p.catalog,\n",
    "               pad=p.pad,\n",
    "               cpu_count=8)"
   ]
  },
  {
   "cell_type": "markdown",
   "metadata": {},
   "source": [
    "### Creating new contamination models"
   ]
  },
  {
   "cell_type": "code",
   "execution_count": null,
   "metadata": {},
   "outputs": [],
   "source": [
    "compute_models = False\n",
    "if compute_models:\n",
    "    print('Computing first-pass contamination models...')\n",
    "    grp.compute_full_model(mag_limit = 25)"
   ]
  },
  {
   "cell_type": "code",
   "execution_count": null,
   "metadata": {},
   "outputs": [],
   "source": [
    "fig, axes = plt.subplots(1,3, figsize=[30,10])\n",
    "axes[0].imshow(grp.FLTs[0].grism['SCI'], vmin=-0.02, vmax=0.2, cmap='cubehelix_r',interpolation='Nearest', origin='lower')\n",
    "axes[1].imshow(grp.FLTs[0].model, vmin=-0.02, vmax=0.2, cmap='cubehelix_r',interpolation='Nearest', origin='lower')\n",
    "axes[2].imshow(grp.FLTs[0].grism['SCI'] - grp.FLTs[0].model, vmin=-0.02, vmax=0.2, cmap='cubehelix_r',interpolation='Nearest', origin='lower')\n",
    "\n",
    "axes[0].set_title('data', fontsize = 40)\n",
    "axes[1].set_title('model', fontsize = 40)\n",
    "axes[2].set_title('data - model', fontsize = 40)\n",
    "\n",
    "for ax in axes:\n",
    "    ax.set_xlim(200,1200) \n",
    "    ax.set_ylim(200,1200)\n",
    "    \n",
    "\n"
   ]
  },
  {
   "cell_type": "code",
   "execution_count": null,
   "metadata": {},
   "outputs": [],
   "source": [
    "if compute_models:\n",
    "    print('Re-computing continuum models, but with higher-order polynomials..')\n",
    "    grp.refine_list(poly_order=2, mag_limits=[16, 24], verbose=False)"
   ]
  },
  {
   "cell_type": "code",
   "execution_count": null,
   "metadata": {},
   "outputs": [],
   "source": [
    "fig.clf()\n",
    "fig, axes = plt.subplots(1,3, figsize=[30,10])\n",
    "axes[0].imshow(grp.FLTs[0].grism['SCI'], vmin=-0.02, vmax=0.2, cmap='cubehelix_r',interpolation='Nearest', origin='lower')\n",
    "axes[1].imshow(grp.FLTs[0].model, vmin=-0.02, vmax=0.2, cmap='cubehelix_r',interpolation='Nearest', origin='lower')\n",
    "axes[2].imshow(grp.FLTs[0].grism['SCI'] - grp.FLTs[0].model, vmin=-0.02, vmax=0.2, cmap='cubehelix_r',interpolation='Nearest', origin='lower')\n",
    "axes[0].set_title('data', fontsize = 40)\n",
    "axes[1].set_title('model', fontsize = 40)\n",
    "axes[2].set_title('data - model', fontsize = 40)\n",
    "\n",
    "for ax in axes:\n",
    "    ax.set_xlim(200,1200) \n",
    "    ax.set_ylim(200,1200)\n",
    "    \n",
    "    "
   ]
  },
  {
   "cell_type": "code",
   "execution_count": null,
   "metadata": {},
   "outputs": [],
   "source": [
    "if compute_models:\n",
    "    print('Saving contamination models')\n",
    "    grp.save_full_data()\n"
   ]
  },
  {
   "cell_type": "markdown",
   "metadata": {},
   "source": [
    "<h1><center>Fitting a single object, ID = 43404 </center></h1>"
   ]
  },
  {
   "cell_type": "markdown",
   "metadata": {},
   "source": [
    "### Load internal SED templates"
   ]
  },
  {
   "cell_type": "code",
   "execution_count": null,
   "metadata": {},
   "outputs": [],
   "source": [
    "# First is set with combined emission line complexes for the redshift fit \n",
    "# (don't allow infinite freedom) of the line ratios / fluxes\n",
    "\n",
    "templ0 = grizli.utils.load_templates(fwhm=1200, line_complexes=True, stars=False, \n",
    "                                     full_line_list=None,  continuum_list=None, \n",
    "                                     fsps_templates=True)\n",
    "\n",
    "# Second set has individual line templates for fitting the line fluxes\n",
    "templ1 = grizli.utils.load_templates(fwhm=1200, line_complexes=False, stars=False, \n",
    "                                     full_line_list=None, continuum_list=None, \n",
    "                                     fsps_templates=True)\n",
    "\n",
    "fmt = '{0:<36s} {1:<36s}'\n",
    "print(fmt.format('templ0', 'templ1'))\n",
    "print(fmt.format('------', '------'))\n",
    "\n",
    "for i in range(len(templ1)):\n",
    "    if i > len(templ0)-1:\n",
    "        print(fmt.format('', list(templ1.keys())[i]))\n",
    "    else:\n",
    "        print(fmt.format(list(templ0.keys())[i], list(templ1.keys())[i]))\n",
    "\n",
    "# Parameters for drizzled line maps\n",
    "pline = {'kernel': 'point', 'pixfrac': 0.2, 'pixscale': 0.1, 'size': 8, 'wcs': None}"
   ]
  },
  {
   "cell_type": "code",
   "execution_count": null,
   "metadata": {},
   "outputs": [],
   "source": [
    "eazy.symlink_eazy_inputs(path=os.path.dirname(eazy.__file__)+'/data', \n",
    "                         path_is_env=False)\n",
    "\n",
    "pline = {'kernel': 'point', 'pixfrac': 0.2, 'pixscale': 0.1, 'size': 8, 'wcs': None}\n",
    "ez = eazy.photoz.PhotoZ(param_file=None, translate_file=p.translate_file, \n",
    "                        zeropoint_file=None, params=p.params, \n",
    "                        load_prior=True, load_products=False)\n",
    "\n",
    "ep = photoz.EazyPhot(ez, grizli_templates=templ0, zgrid=ez.zgrid)\n",
    "\n"
   ]
  },
  {
   "cell_type": "markdown",
   "metadata": {},
   "source": [
    "### Retrieve and write-out the 2D spectrum of a single object. These cutouts are referred to as \"beams\"."
   ]
  },
  {
   "cell_type": "code",
   "execution_count": null,
   "metadata": {},
   "outputs": [],
   "source": [
    "id_fit = 43403\n",
    "beams = grp.get_beams(id_fit, size=80)\n",
    "print(\"beams: \", beams)\n",
    "mb = grizli.multifit.MultiBeam(beams, fcontam=1.0, group_name=field)\n",
    "mb.write_master_fits()\n",
    "\n"
   ]
  },
  {
   "cell_type": "code",
   "execution_count": null,
   "metadata": {},
   "outputs": [],
   "source": [
    "# Fit polynomial model for initial continuum subtraction\n",
    "wave = np.linspace(2000,2.5e4,100)\n",
    "poly_templates = grizli.utils.polynomial_templates(\n",
    "    wave=wave, \n",
    "    order=7,\n",
    "    line=False)\n",
    "\n",
    "pfit = mb.template_at_z(\n",
    "    z=0, \n",
    "    templates=poly_templates, \n",
    "    fit_background=True, \n",
    "    fitter='lstsq', \n",
    "    fwhm=1400, \n",
    "    get_uncertainties=2)\n",
    "\n",
    "\n",
    "hdu, fig = mb.drizzle_grisms_and_PAs(\n",
    "    size=32, \n",
    "    fcontam=0.2, \n",
    "    flambda=False, \n",
    "    scale=1, \n",
    "    pixfrac=0.5, \n",
    "    kernel='point', \n",
    "    make_figure=True, \n",
    "    usewcs=False, \n",
    "    zfit=pfit,\n",
    "    diff=True)\n",
    "# Save drizzled (\"stacked\") 2D trace as PNG and FITS\n",
    "fig.savefig('{0}_{1:05d}.stack.png'.format(field, id_fit))\n",
    "hdu.writeto('{0}_{1:05d}.stack.fits'.format(field, id_fit), clobber=True)\n"
   ]
  },
  {
   "cell_type": "markdown",
   "metadata": {},
   "source": [
    "### Generate the photometric catalog from the 3DHST catalog"
   ]
  },
  {
   "cell_type": "code",
   "execution_count": null,
   "metadata": {},
   "outputs": [],
   "source": [
    "print('GDS %i'%id_fit)\n",
    "print('\\tRA:', mb.ra)\n",
    "print('\\tDEC:', mb.dec)\n",
    "\n",
    "print('Finding nearest source in 3DHST photometric catalog..')\n",
    "phot, ii, dd = ep.get_phot_dict(mb.ra, mb.dec)\n",
    "\n",
    "print('\\tmatched source within %.5f arcsec'%dd.value)\n"
   ]
  },
  {
   "cell_type": "markdown",
   "metadata": {},
   "source": [
    "### Run the fit"
   ]
  },
  {
   "cell_type": "code",
   "execution_count": null,
   "metadata": {},
   "outputs": [],
   "source": [
    "# The order of the polynomial used to scale the photometry to the spectrum\n",
    "    # phot_scale_order = 0, multiplicative\n",
    "    # phot_scale_order = 1, linear\n",
    "    # phot_scale_order = 2, quadratic\n",
    "    # etc.\n",
    "\n",
    "phot_scale_order = 0\n",
    "\n",
    "# run the fit\n",
    "out = grizli.fitting.run_all(id_fit, \n",
    "                             t0=templ0, \n",
    "                             t1=templ1, \n",
    "                             fwhm=1200, \n",
    "                             zr=[0.0, 3.5], \n",
    "                             dz=[0.004, 0.0005], \n",
    "                             fitter='nnls',\n",
    "                             group_name=field,\n",
    "                             fit_stacks=True, \n",
    "                             prior=None, \n",
    "                             fcontam=0.,\n",
    "                             pline=pline, \n",
    "                             mask_sn_limit=7, \n",
    "                             fit_only_beams=False,\n",
    "                             fit_beams=True, \n",
    "                             root=field,\n",
    "                             fit_trace_shift=False, \n",
    "                             phot=phot, \n",
    "                             verbose=False,                         \n",
    "                             scale_photometry= phot_scale_order,   \n",
    "                             show_beams=True)"
   ]
  },
  {
   "cell_type": "markdown",
   "metadata": {},
   "source": [
    "<h1><center>Grizli products</center></h1>"
   ]
  },
  {
   "cell_type": "markdown",
   "metadata": {},
   "source": [
    "### Stack of Grism orients\n",
    "\n",
    "left columns:  G102\n",
    "\n",
    "right columns: G141"
   ]
  },
  {
   "cell_type": "code",
   "execution_count": null,
   "metadata": {},
   "outputs": [],
   "source": [
    "Image(filename = PATH_TO_PREP + '/GS1_43403.stack.png', width = 1000, height = 1000)"
   ]
  },
  {
   "cell_type": "markdown",
   "metadata": {},
   "source": [
    "### SED fit"
   ]
  },
  {
   "cell_type": "code",
   "execution_count": null,
   "metadata": {},
   "outputs": [],
   "source": [
    "Image(filename = PATH_TO_PREP + '/GS1_43403.sed.png', width = 1000, height = 1000)"
   ]
  },
  {
   "cell_type": "code",
   "execution_count": null,
   "metadata": {},
   "outputs": [],
   "source": [
    "Image(filename = PATH_TO_PREP + '/GS1_43403.full.png', width = 1000, height = 1000)"
   ]
  },
  {
   "cell_type": "markdown",
   "metadata": {},
   "source": [
    "### Emission line maps"
   ]
  },
  {
   "cell_type": "code",
   "execution_count": null,
   "metadata": {},
   "outputs": [],
   "source": [
    "# Results of the fit are saved in *full.fits\n",
    "fit_hdu = fits.open('{0}_{1:05d}.full.fits'.format(field, id_fit)) \n",
    "print('{0} has lines [{1}]'.format(fit_hdu.filename(), fit_hdu[0].header['HASLINES']))\n",
    "# Helper script for plotting line maps, not generated automatically\n",
    "fig = grizli.fitting.show_drizzled_lines(fit_hdu, size_arcsec=1.6, cmap='plasma_r')\n",
    "fig.savefig('{0}_{1:05d}.line.png'.format(field, id_fit))\n",
    "plt.close('all')\n",
    "\n",
    "Image(filename = PATH_TO_PREP + '/GS1_43403.line.png', width = 1000, height = 1000)"
   ]
  },
  {
   "cell_type": "markdown",
   "metadata": {},
   "source": [
    "### Fits files"
   ]
  },
  {
   "cell_type": "code",
   "execution_count": null,
   "metadata": {},
   "outputs": [],
   "source": [
    "fits_files = glob.glob('GS1_43403*fits')\n",
    "for file in fits_files:\n",
    "    im = fits.open(file)\n",
    "    print('\\n\\n{1}\\n{0}\\n{1}\\n\\n'.format(file, '='*len(file)))\n",
    "    im.info()"
   ]
  },
  {
   "cell_type": "markdown",
   "metadata": {},
   "source": [
    "### The results of the fit are stored in *full.fits"
   ]
  },
  {
   "cell_type": "code",
   "execution_count": null,
   "metadata": {},
   "outputs": [],
   "source": [
    "full_fits = fits.open('GS1_43403.full.fits')\n",
    "zfit_stack = Table(fit_hdu['ZFIT_STACK'].data) \n",
    "\n",
    "\n",
    "plt.plot(fit_stack['zgrid'], fit_stack['pdf'], label='Stacked')\n",
    "\n",
    "# zoom in around the initial best-guess with the individual \"beam\" spectra\n",
    "fit_beam = Table(fit_hdu['ZFIT_BEAM'].data)   \n",
    "plt.plot(fit_beam['zgrid'], fit_beam['pdf'], label='Zoom, beams')\n",
    "\n",
    "plt.xlim(0.5, 2.5); plt.semilogy(); plt.grid()\n",
    "plt.ylim(1.e-200, 1.e10)\n",
    "\n",
    "plt.xlabel('z'); plt.ylabel('PDF(z)'); plt.legend()\n"
   ]
  },
  {
   "cell_type": "markdown",
   "metadata": {},
   "source": [
    "### Results of the fit at the best determined redshift"
   ]
  },
  {
   "cell_type": "code",
   "execution_count": null,
   "metadata": {},
   "outputs": [],
   "source": [
    "mb, st, fit, tfit, line_hdu = out\n",
    "\n",
    "print(tfit.keys())\n",
    "print('z = {0}'.format(tfit['z']))\n",
    "\n",
    "print('Continuum template, cont1d: ', tfit['cont1d'].__class__)\n",
    "fig, ax = plt.subplots(1,1, figsize = (10, 8))\n",
    "\n",
    "ax.plot(tfit['cont1d'].wave/1.e4, tfit['cont1d'].flux, label='continuum')\n",
    "ax.plot(tfit['line1d'].wave/1.e4, tfit['line1d'].flux, label='total')\n",
    "ax.set_xlim(0.8, 1.7); ax.set_ylim(0,3.e-18); plt.grid()\n",
    "ax.set_xlabel(r'$\\lambda$, microns'); ax.set_ylabel(r'$f_\\lambda$, erg/s/cm2/A'); plt.legend()\n",
    "\n",
    "# cfit, coeffs, covar are coefficients of the template fit\n",
    "# and their covariance\n"
   ]
  },
  {
   "cell_type": "markdown",
   "metadata": {},
   "source": [
    "### 1D line fluxes"
   ]
  },
  {
   "cell_type": "code",
   "execution_count": null,
   "metadata": {},
   "outputs": [],
   "source": [
    "full_fits = fits.open('GS1_43403.full.fits')\n",
    "full_hdr = full_fits[0].header\n",
    "numlines = full_hdr['NUMLINES']\n",
    "\n",
    "\n",
    "print ('%i lines detected'%numlines)\n",
    "for n in np.arange(numlines):\n",
    "    line_name = full_hdr['LINE%.3i'%(n+1)]\n",
    "    line_flux = full_hdr['FLUX%.3i'%(n+1)]\n",
    "    line_err  = full_hdr['ERR%.3i'%(n+1)]\n",
    "    \n",
    "    print ('\\t\\t\\t' + line_name)\n",
    "    print ('\\t  flux =  %.2f'%(1.e17 * line_flux), 'x 10^-17 erg/s/cm^2')\n",
    "    print ('\\t eflux =  %.2f'%(1.e17 * line_err), 'x 10^-17 erg/s/cm^2')\n",
    "    print ('\\t\\t flux/eflux =  %.1f'%(line_flux/line_err))\n",
    "\n",
    "    print ('\\n\\n\\n')\n",
    "\n",
    "\n"
   ]
  },
  {
   "cell_type": "code",
   "execution_count": null,
   "metadata": {},
   "outputs": [],
   "source": [
    "full_hdr\n"
   ]
  },
  {
   "cell_type": "markdown",
   "metadata": {},
   "source": [
    "<h1><center>Batch-mode fitting</center></h1>"
   ]
  },
  {
   "cell_type": "markdown",
   "metadata": {},
   "source": [
    "### Wrapper for fitting routines above"
   ]
  },
  {
   "cell_type": "code",
   "execution_count": null,
   "metadata": {},
   "outputs": [],
   "source": [
    "def grizli_fit(grp, id_fit, field = '', ref_filter = 'F105W', use_pz_prior = True, use_phot = True, scale_phot = True, templ0 = None, templ1 = None, ep = None, pline = None):\n",
    "    beams = grp.get_beams(id_fit, size=80)\n",
    "    if beams != []:\n",
    "        print(\"beams: \", beams)\n",
    "        mb = grizli.multifit.MultiBeam(beams, fcontam=1.0, group_name=field)\n",
    "        mb.write_master_fits()\n",
    "\n",
    "        # Fit polynomial model for initial continuum subtraction\n",
    "        wave = np.linspace(2000,2.5e4,100)\n",
    "        poly_templates = grizli.utils.polynomial_templates(\n",
    "            wave=wave, \n",
    "            order=7,\n",
    "            line=False)\n",
    "\n",
    "        pfit = mb.template_at_z(\n",
    "            z=0, \n",
    "            templates=poly_templates, \n",
    "            fit_background=True, \n",
    "            fitter='lstsq', \n",
    "            fwhm=1400, \n",
    "            get_uncertainties=2)\n",
    "\n",
    "\n",
    "        if pfit != None:\n",
    "        # Drizzle grisms / PAs\n",
    "            hdu, fig = mb.drizzle_grisms_and_PAs(\n",
    "                size=32, \n",
    "                fcontam=0.2, \n",
    "                flambda=False, \n",
    "                scale=1, \n",
    "                pixfrac=0.5, \n",
    "                kernel='point', \n",
    "                make_figure=True, \n",
    "                usewcs=False, \n",
    "                zfit=pfit,\n",
    "                diff=True)\n",
    "            # Save drizzled (\"stacked\") 2D trace as PNG and FITS\n",
    "            fig.savefig('{0}_{1:05d}.stack.png'.format(field, id_fit))\n",
    "            hdu.writeto('{0}_{1:05d}.stack.fits'.format(field, id_fit), clobber=True)\n",
    "\n",
    "\n",
    "\n",
    "            if use_pz_prior:\n",
    "                #use redshift prior from z_phot\n",
    "                prior = np.zeros((2, len(p.tempfilt['zgrid'])))\n",
    "                prior[0] = p.tempfilt['zgrid']\n",
    "                prior[1] = p.pz['chi2fit'][:,id]\n",
    "            else:\n",
    "                prior = None \n",
    "            order = 0\n",
    "\n",
    "\n",
    "\n",
    "            tab = utils.GTable()\n",
    "            tab['ra'] = [mb.ra]\n",
    "            tab['dec'] = [mb.dec]\n",
    "\n",
    "            tab['id'] = id_fit\n",
    "            phot, ii, dd = ep.get_phot_dict(tab['ra'][0], tab['dec'][0])\n",
    "            out = grizli.fitting.run_all(\n",
    "                id_fit, \n",
    "                t0=templ0, \n",
    "                t1=templ1, \n",
    "                fwhm=1200, \n",
    "                zr=[0.0, 3.5], \n",
    "                dz=[0.004, 0.0005], \n",
    "                fitter='nnls',\n",
    "                group_name=field,\n",
    "                fit_stacks=True, \n",
    "                prior=None, \n",
    "                fcontam=0.,\n",
    "                pline=pline, \n",
    "                mask_sn_limit=7, \n",
    "                fit_only_beams=False,\n",
    "                fit_beams=True, \n",
    "                root=field,\n",
    "                fit_trace_shift=False, \n",
    "                phot=phot, \n",
    "                verbose=True, \n",
    "                scale_photometry=order, \n",
    "                show_beams=True)\n",
    "            mb, st, fit, tfit, line_hdu = out\n",
    "            fit_hdu = fits.open('{0}_{1:05d}.full.fits'.format(field, id_fit)) \n",
    "\n",
    "            fit_hdu.info()\n",
    "            # same as the fit table above, redshift fit to the stacked spectra\n",
    "            fit_stack = Table(fit_hdu['ZFIT_STACK'].data) \n",
    "\n",
    "\n",
    "            # zoom in around the initial best-guess with the individual \"beam\" spectra\n",
    "            fit_beam = Table(fit_hdu['ZFIT_BEAM'].data)   \n",
    "\n",
    "            templ = Table(fit_hdu['TEMPL'].data)\n",
    "            print('{0} has lines [{1}]'.format(fit_hdu.filename(), fit_hdu[0].header['HASLINES']))\n",
    "\n",
    "            # Helper script for plotting them, not generated automatically\n",
    "            fig = grizli.fitting.show_drizzled_lines(fit_hdu, size_arcsec=1.6, cmap='plasma_r')\n",
    "            fig.savefig('{0}_{1:05d}.line.png'.format(field, id_fit))\n",
    "            plt.close('all')\n",
    "\n"
   ]
  },
  {
   "cell_type": "markdown",
   "metadata": {},
   "source": [
    "### Fitting every object in the field with jh mag < 22"
   ]
  },
  {
   "cell_type": "code",
   "execution_count": null,
   "metadata": {},
   "outputs": [],
   "source": [
    "#Fit all objects with MAG_AUTO < 22\n",
    "if False:\n",
    "    good = np.where(np.array(grp.catalog['MAG_AUTO']) < 22)[0]\n",
    "    for g in good:\n",
    "        id_fit = np.array(grp.catalog['NUMBER'])[g]\n",
    "        mag_fit = grp.catalog['MAG_AUTO'][g]\n",
    "        grizli_fit(grp, id_fit = id_fit, field = field,\n",
    "                   use_pz_prior = False, use_phot = True, scale_phot = True,\n",
    "                   templ0 = templ0, templ1 = templ1, ep = ep, pline = pline,)\n",
    "        \n"
   ]
  },
  {
   "cell_type": "code",
   "execution_count": null,
   "metadata": {},
   "outputs": [],
   "source": [
    "'''\n",
    "x = templ1['fsps/fsps_QSF_12_v3_nolines_002.dat']\n",
    "\n",
    "fig, ax = plt.subplots(1,1, figsize = (10,10))\n",
    "ax.plot(x.wave, x.flux)\n",
    "ax.semilogx()\n",
    "ax.set_xlim(4000, 7000)\n",
    "'''"
   ]
  }
 ],
 "metadata": {
  "kernelspec": {
   "display_name": "Python 3",
   "language": "python",
   "name": "python3"
  },
  "language_info": {
   "codemirror_mode": {
    "name": "ipython",
    "version": 3
   },
   "file_extension": ".py",
   "mimetype": "text/x-python",
   "name": "python",
   "nbconvert_exporter": "python",
   "pygments_lexer": "ipython3",
   "version": "3.6.6"
  }
 },
 "nbformat": 4,
 "nbformat_minor": 2
}
